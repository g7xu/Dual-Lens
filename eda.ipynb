{
 "cells": [
  {
   "cell_type": "code",
   "execution_count": 1,
   "metadata": {},
   "outputs": [],
   "source": [
    "import pandas as pd\n",
    "import numpy as np\n",
    "from get_data import get_track_data"
   ]
  },
  {
   "cell_type": "code",
   "execution_count": 2,
   "metadata": {},
   "outputs": [],
   "source": [
    "cases_data = pd.read_csv('data/cases.csv')\n",
    "tracks_data = pd.read_csv('data/trks.csv')\n",
    "labs_data = pd.read_csv('data/labs.csv')"
   ]
  },
  {
   "cell_type": "code",
   "execution_count": 40,
   "metadata": {},
   "outputs": [],
   "source": [
    "y = cases_data[cases_data['department'] == 'Urology']"
   ]
  },
  {
   "cell_type": "code",
   "execution_count": 53,
   "metadata": {},
   "outputs": [
    {
     "data": {
      "text/plain": [
       "<AxesSubplot:>"
      ]
     },
     "execution_count": 53,
     "metadata": {},
     "output_type": "execute_result"
    },
    {
     "data": {
      "image/png": "[encoded data removed]",
      "text/plain": [
       "<Figure size 640x480 with 1 Axes>"
      ]
     },
     "metadata": {},
     "output_type": "display_data"
    }
   ],
   "source": [
    "y['weight'].hist()"
   ]
  },
  {
   "cell_type": "code",
   "execution_count": 54,
   "metadata": {},
   "outputs": [
    {
     "data": {
      "text/plain": [
       "10      M\n",
       "40      M\n",
       "52      M\n",
       "75      M\n",
       "143     M\n",
       "       ..\n",
       "6177    M\n",
       "6193    M\n",
       "6208    M\n",
       "6215    M\n",
       "6218    M\n",
       "Name: sex, Length: 117, dtype: object"
      ]
     },
     "execution_count": 54,
     "metadata": {},
     "output_type": "execute_result"
    }
   ],
   "source": [
    "y['sex']"
   ]
  },
  {
   "cell_type": "code",
   "execution_count": 57,
   "metadata": {},
   "outputs": [
    {
     "data": {
      "text/plain": [
       "<AxesSubplot:>"
      ]
     },
     "execution_count": 57,
     "metadata": {},
     "output_type": "execute_result"
    },
    {
     "data": {
      "image/png": "[encoded data removed]",
      "text/plain": [
       "<Figure size 640x480 with 1 Axes>"
      ]
     },
     "metadata": {},
     "output_type": "display_data"
    }
   ],
   "source": [
    "y[y['sex'] == 'M']['weight'].hist()"
   ]
  },
  {
   "cell_type": "code",
   "execution_count": 58,
   "metadata": {},
   "outputs": [
    {
     "data": {
      "text/plain": [
       "<AxesSubplot:>"
      ]
     },
     "execution_count": 58,
     "metadata": {},
     "output_type": "execute_result"
    },
    {
     "data": {
      "image/png": "[encoded data removed]",
      "text/plain": [
       "<Figure size 640x480 with 1 Axes>"
      ]
     },
     "metadata": {},
     "output_type": "display_data"
    }
   ],
   "source": [
    "y[y['sex'] == 'F']['weight'].hist()"
   ]
  },
  {
   "cell_type": "code",
   "execution_count": 59,
   "metadata": {},
   "outputs": [
    {
     "data": {
      "text/html": [
       "<div>\n",
       "<style scoped>\n",
       "    .dataframe tbody tr th:only-of-type {\n",
       "        vertical-align: middle;\n",
       "    }\n",
       "\n",
       "    .dataframe tbody tr th {\n",
       "        vertical-align: top;\n",
       "    }\n",
       "\n",
       "    .dataframe thead th {\n",
       "        text-align: right;\n",
       "    }\n",
       "</style>\n",
       "<table border=\"1\" class=\"dataframe\">\n",
       "  <thead>\n",
       "    <tr style=\"text-align: right;\">\n",
       "      <th></th>\n",
       "      <th>caseid</th>\n",
       "      <th>subjectid</th>\n",
       "      <th>casestart</th>\n",
       "      <th>caseend</th>\n",
       "      <th>anestart</th>\n",
       "      <th>aneend</th>\n",
       "      <th>opstart</th>\n",
       "      <th>opend</th>\n",
       "      <th>adm</th>\n",
       "      <th>dis</th>\n",
       "      <th>...</th>\n",
       "      <th>intraop_colloid</th>\n",
       "      <th>intraop_ppf</th>\n",
       "      <th>intraop_mdz</th>\n",
       "      <th>intraop_ftn</th>\n",
       "      <th>intraop_rocu</th>\n",
       "      <th>intraop_vecu</th>\n",
       "      <th>intraop_eph</th>\n",
       "      <th>intraop_phe</th>\n",
       "      <th>intraop_epi</th>\n",
       "      <th>intraop_ca</th>\n",
       "    </tr>\n",
       "  </thead>\n",
       "  <tbody>\n",
       "    <tr>\n",
       "      <th>314</th>\n",
       "      <td>315</td>\n",
       "      <td>463</td>\n",
       "      <td>0</td>\n",
       "      <td>4215</td>\n",
       "      <td>-429</td>\n",
       "      <td>3711.0</td>\n",
       "      <td>2571</td>\n",
       "      <td>3171</td>\n",
       "      <td>-142620</td>\n",
       "      <td>30180</td>\n",
       "      <td>...</td>\n",
       "      <td>0</td>\n",
       "      <td>100</td>\n",
       "      <td>0.0</td>\n",
       "      <td>100</td>\n",
       "      <td>45</td>\n",
       "      <td>0</td>\n",
       "      <td>20</td>\n",
       "      <td>0</td>\n",
       "      <td>0</td>\n",
       "      <td>0</td>\n",
       "    </tr>\n",
       "    <tr>\n",
       "      <th>848</th>\n",
       "      <td>849</td>\n",
       "      <td>2112</td>\n",
       "      <td>0</td>\n",
       "      <td>5926</td>\n",
       "      <td>-875</td>\n",
       "      <td>5665.0</td>\n",
       "      <td>865</td>\n",
       "      <td>5065</td>\n",
       "      <td>-43800</td>\n",
       "      <td>42600</td>\n",
       "      <td>...</td>\n",
       "      <td>0</td>\n",
       "      <td>120</td>\n",
       "      <td>0.0</td>\n",
       "      <td>50</td>\n",
       "      <td>40</td>\n",
       "      <td>0</td>\n",
       "      <td>10</td>\n",
       "      <td>0</td>\n",
       "      <td>0</td>\n",
       "      <td>0</td>\n",
       "    </tr>\n",
       "    <tr>\n",
       "      <th>1161</th>\n",
       "      <td>1162</td>\n",
       "      <td>4751</td>\n",
       "      <td>0</td>\n",
       "      <td>3215</td>\n",
       "      <td>-423</td>\n",
       "      <td>2877.0</td>\n",
       "      <td>1077</td>\n",
       "      <td>1977</td>\n",
       "      <td>-122520</td>\n",
       "      <td>50280</td>\n",
       "      <td>...</td>\n",
       "      <td>0</td>\n",
       "      <td>80</td>\n",
       "      <td>0.0</td>\n",
       "      <td>0</td>\n",
       "      <td>30</td>\n",
       "      <td>0</td>\n",
       "      <td>0</td>\n",
       "      <td>0</td>\n",
       "      <td>0</td>\n",
       "      <td>0</td>\n",
       "    </tr>\n",
       "    <tr>\n",
       "      <th>1341</th>\n",
       "      <td>1342</td>\n",
       "      <td>4227</td>\n",
       "      <td>0</td>\n",
       "      <td>3490</td>\n",
       "      <td>-564</td>\n",
       "      <td>3756.0</td>\n",
       "      <td>456</td>\n",
       "      <td>2256</td>\n",
       "      <td>-58344</td>\n",
       "      <td>546456</td>\n",
       "      <td>...</td>\n",
       "      <td>0</td>\n",
       "      <td>90</td>\n",
       "      <td>0.0</td>\n",
       "      <td>100</td>\n",
       "      <td>30</td>\n",
       "      <td>0</td>\n",
       "      <td>5</td>\n",
       "      <td>0</td>\n",
       "      <td>0</td>\n",
       "      <td>0</td>\n",
       "    </tr>\n",
       "    <tr>\n",
       "      <th>2781</th>\n",
       "      <td>2782</td>\n",
       "      <td>2112</td>\n",
       "      <td>0</td>\n",
       "      <td>3713</td>\n",
       "      <td>-244</td>\n",
       "      <td>3716.0</td>\n",
       "      <td>1016</td>\n",
       "      <td>2816</td>\n",
       "      <td>-131880</td>\n",
       "      <td>40920</td>\n",
       "      <td>...</td>\n",
       "      <td>0</td>\n",
       "      <td>70</td>\n",
       "      <td>0.0</td>\n",
       "      <td>0</td>\n",
       "      <td>30</td>\n",
       "      <td>0</td>\n",
       "      <td>0</td>\n",
       "      <td>0</td>\n",
       "      <td>0</td>\n",
       "      <td>0</td>\n",
       "    </tr>\n",
       "    <tr>\n",
       "      <th>2815</th>\n",
       "      <td>2816</td>\n",
       "      <td>1648</td>\n",
       "      <td>0</td>\n",
       "      <td>2788</td>\n",
       "      <td>-444</td>\n",
       "      <td>2316.0</td>\n",
       "      <td>1416</td>\n",
       "      <td>1716</td>\n",
       "      <td>-131160</td>\n",
       "      <td>41640</td>\n",
       "      <td>...</td>\n",
       "      <td>0</td>\n",
       "      <td>150</td>\n",
       "      <td>0.0</td>\n",
       "      <td>100</td>\n",
       "      <td>30</td>\n",
       "      <td>0</td>\n",
       "      <td>0</td>\n",
       "      <td>0</td>\n",
       "      <td>0</td>\n",
       "      <td>0</td>\n",
       "    </tr>\n",
       "    <tr>\n",
       "      <th>3089</th>\n",
       "      <td>3090</td>\n",
       "      <td>1099</td>\n",
       "      <td>0</td>\n",
       "      <td>10047</td>\n",
       "      <td>-703</td>\n",
       "      <td>9797.0</td>\n",
       "      <td>1997</td>\n",
       "      <td>9197</td>\n",
       "      <td>-134160</td>\n",
       "      <td>384240</td>\n",
       "      <td>...</td>\n",
       "      <td>0</td>\n",
       "      <td>80</td>\n",
       "      <td>0.0</td>\n",
       "      <td>0</td>\n",
       "      <td>50</td>\n",
       "      <td>0</td>\n",
       "      <td>0</td>\n",
       "      <td>0</td>\n",
       "      <td>0</td>\n",
       "      <td>150</td>\n",
       "    </tr>\n",
       "    <tr>\n",
       "      <th>3123</th>\n",
       "      <td>3124</td>\n",
       "      <td>3215</td>\n",
       "      <td>0</td>\n",
       "      <td>2813</td>\n",
       "      <td>-486</td>\n",
       "      <td>2454.0</td>\n",
       "      <td>954</td>\n",
       "      <td>1554</td>\n",
       "      <td>-115140</td>\n",
       "      <td>57660</td>\n",
       "      <td>...</td>\n",
       "      <td>0</td>\n",
       "      <td>110</td>\n",
       "      <td>0.0</td>\n",
       "      <td>100</td>\n",
       "      <td>50</td>\n",
       "      <td>0</td>\n",
       "      <td>0</td>\n",
       "      <td>0</td>\n",
       "      <td>0</td>\n",
       "      <td>0</td>\n",
       "    </tr>\n",
       "    <tr>\n",
       "      <th>3362</th>\n",
       "      <td>3363</td>\n",
       "      <td>2592</td>\n",
       "      <td>0</td>\n",
       "      <td>11377</td>\n",
       "      <td>-1112</td>\n",
       "      <td>11128.0</td>\n",
       "      <td>2788</td>\n",
       "      <td>10228</td>\n",
       "      <td>-136440</td>\n",
       "      <td>381960</td>\n",
       "      <td>...</td>\n",
       "      <td>20</td>\n",
       "      <td>150</td>\n",
       "      <td>0.0</td>\n",
       "      <td>0</td>\n",
       "      <td>50</td>\n",
       "      <td>0</td>\n",
       "      <td>0</td>\n",
       "      <td>0</td>\n",
       "      <td>0</td>\n",
       "      <td>0</td>\n",
       "    </tr>\n",
       "    <tr>\n",
       "      <th>4055</th>\n",
       "      <td>4056</td>\n",
       "      <td>2504</td>\n",
       "      <td>0</td>\n",
       "      <td>3484</td>\n",
       "      <td>-299</td>\n",
       "      <td>3601.0</td>\n",
       "      <td>2101</td>\n",
       "      <td>2701</td>\n",
       "      <td>-114540</td>\n",
       "      <td>58260</td>\n",
       "      <td>...</td>\n",
       "      <td>0</td>\n",
       "      <td>100</td>\n",
       "      <td>0.0</td>\n",
       "      <td>50</td>\n",
       "      <td>30</td>\n",
       "      <td>0</td>\n",
       "      <td>10</td>\n",
       "      <td>0</td>\n",
       "      <td>0</td>\n",
       "      <td>0</td>\n",
       "    </tr>\n",
       "    <tr>\n",
       "      <th>4275</th>\n",
       "      <td>4276</td>\n",
       "      <td>5766</td>\n",
       "      <td>0</td>\n",
       "      <td>2717</td>\n",
       "      <td>-361</td>\n",
       "      <td>2639.0</td>\n",
       "      <td>1439</td>\n",
       "      <td>2039</td>\n",
       "      <td>-114360</td>\n",
       "      <td>58440</td>\n",
       "      <td>...</td>\n",
       "      <td>0</td>\n",
       "      <td>100</td>\n",
       "      <td>0.0</td>\n",
       "      <td>50</td>\n",
       "      <td>30</td>\n",
       "      <td>0</td>\n",
       "      <td>0</td>\n",
       "      <td>0</td>\n",
       "      <td>0</td>\n",
       "      <td>0</td>\n",
       "    </tr>\n",
       "    <tr>\n",
       "      <th>4388</th>\n",
       "      <td>4389</td>\n",
       "      <td>4323</td>\n",
       "      <td>0</td>\n",
       "      <td>12301</td>\n",
       "      <td>-1350</td>\n",
       "      <td>12270.0</td>\n",
       "      <td>2970</td>\n",
       "      <td>11310</td>\n",
       "      <td>-129900</td>\n",
       "      <td>388500</td>\n",
       "      <td>...</td>\n",
       "      <td>0</td>\n",
       "      <td>100</td>\n",
       "      <td>0.0</td>\n",
       "      <td>0</td>\n",
       "      <td>50</td>\n",
       "      <td>0</td>\n",
       "      <td>0</td>\n",
       "      <td>0</td>\n",
       "      <td>0</td>\n",
       "      <td>0</td>\n",
       "    </tr>\n",
       "    <tr>\n",
       "      <th>4447</th>\n",
       "      <td>4448</td>\n",
       "      <td>519</td>\n",
       "      <td>0</td>\n",
       "      <td>3834</td>\n",
       "      <td>-610</td>\n",
       "      <td>2450.0</td>\n",
       "      <td>1310</td>\n",
       "      <td>2990</td>\n",
       "      <td>-120600</td>\n",
       "      <td>52200</td>\n",
       "      <td>...</td>\n",
       "      <td>0</td>\n",
       "      <td>100</td>\n",
       "      <td>0.0</td>\n",
       "      <td>100</td>\n",
       "      <td>30</td>\n",
       "      <td>0</td>\n",
       "      <td>5</td>\n",
       "      <td>0</td>\n",
       "      <td>0</td>\n",
       "      <td>0</td>\n",
       "    </tr>\n",
       "    <tr>\n",
       "      <th>5520</th>\n",
       "      <td>5521</td>\n",
       "      <td>1993</td>\n",
       "      <td>0</td>\n",
       "      <td>5456</td>\n",
       "      <td>-480</td>\n",
       "      <td>5520.0</td>\n",
       "      <td>1920</td>\n",
       "      <td>4320</td>\n",
       "      <td>-139080</td>\n",
       "      <td>33720</td>\n",
       "      <td>...</td>\n",
       "      <td>0</td>\n",
       "      <td>120</td>\n",
       "      <td>0.0</td>\n",
       "      <td>50</td>\n",
       "      <td>30</td>\n",
       "      <td>0</td>\n",
       "      <td>0</td>\n",
       "      <td>0</td>\n",
       "      <td>0</td>\n",
       "      <td>0</td>\n",
       "    </tr>\n",
       "    <tr>\n",
       "      <th>5557</th>\n",
       "      <td>5558</td>\n",
       "      <td>4849</td>\n",
       "      <td>0</td>\n",
       "      <td>11763</td>\n",
       "      <td>-299</td>\n",
       "      <td>11401.0</td>\n",
       "      <td>3001</td>\n",
       "      <td>11161</td>\n",
       "      <td>-373740</td>\n",
       "      <td>490260</td>\n",
       "      <td>...</td>\n",
       "      <td>20</td>\n",
       "      <td>0</td>\n",
       "      <td>0.0</td>\n",
       "      <td>0</td>\n",
       "      <td>100</td>\n",
       "      <td>0</td>\n",
       "      <td>10</td>\n",
       "      <td>0</td>\n",
       "      <td>0</td>\n",
       "      <td>0</td>\n",
       "    </tr>\n",
       "    <tr>\n",
       "      <th>5601</th>\n",
       "      <td>5602</td>\n",
       "      <td>340</td>\n",
       "      <td>0</td>\n",
       "      <td>13526</td>\n",
       "      <td>-336</td>\n",
       "      <td>13464.0</td>\n",
       "      <td>3504</td>\n",
       "      <td>12564</td>\n",
       "      <td>-114300</td>\n",
       "      <td>144900</td>\n",
       "      <td>...</td>\n",
       "      <td>0</td>\n",
       "      <td>120</td>\n",
       "      <td>0.0</td>\n",
       "      <td>0</td>\n",
       "      <td>0</td>\n",
       "      <td>0</td>\n",
       "      <td>10</td>\n",
       "      <td>0</td>\n",
       "      <td>0</td>\n",
       "      <td>0</td>\n",
       "    </tr>\n",
       "  </tbody>\n",
       "</table>\n",
       "<p>16 rows × 74 columns</p>\n",
       "</div>"
      ],
      "text/plain": [
       "      caseid  subjectid  casestart  caseend  anestart   aneend  opstart  \\\n",
       "314      315        463          0     4215      -429   3711.0     2571   \n",
       "848      849       2112          0     5926      -875   5665.0      865   \n",
       "1161    1162       4751          0     3215      -423   2877.0     1077   \n",
       "1341    1342       4227          0     3490      -564   3756.0      456   \n",
       "2781    2782       2112          0     3713      -244   3716.0     1016   \n",
       "2815    2816       1648          0     2788      -444   2316.0     1416   \n",
       "3089    3090       1099          0    10047      -703   9797.0     1997   \n",
       "3123    3124       3215          0     2813      -486   2454.0      954   \n",
       "3362    3363       2592          0    11377     -1112  11128.0     2788   \n",
       "4055    4056       2504          0     3484      -299   3601.0     2101   \n",
       "4275    4276       5766          0     2717      -361   2639.0     1439   \n",
       "4388    4389       4323          0    12301     -1350  12270.0     2970   \n",
       "4447    4448        519          0     3834      -610   2450.0     1310   \n",
       "5520    5521       1993          0     5456      -480   5520.0     1920   \n",
       "5557    5558       4849          0    11763      -299  11401.0     3001   \n",
       "5601    5602        340          0    13526      -336  13464.0     3504   \n",
       "\n",
       "      opend     adm     dis  ...  intraop_colloid  intraop_ppf  intraop_mdz  \\\n",
       "314    3171 -142620   30180  ...                0          100          0.0   \n",
       "848    5065  -43800   42600  ...                0          120          0.0   \n",
       "1161   1977 -122520   50280  ...                0           80          0.0   \n",
       "1341   2256  -58344  546456  ...                0           90          0.0   \n",
       "2781   2816 -131880   40920  ...                0           70          0.0   \n",
       "2815   1716 -131160   41640  ...                0          150          0.0   \n",
       "3089   9197 -134160  384240  ...                0           80          0.0   \n",
       "3123   1554 -115140   57660  ...                0          110          0.0   \n",
       "3362  10228 -136440  381960  ...               20          150          0.0   \n",
       "4055   2701 -114540   58260  ...                0          100          0.0   \n",
       "4275   2039 -114360   58440  ...                0          100          0.0   \n",
       "4388  11310 -129900  388500  ...                0          100          0.0   \n",
       "4447   2990 -120600   52200  ...                0          100          0.0   \n",
       "5520   4320 -139080   33720  ...                0          120          0.0   \n",
       "5557  11161 -373740  490260  ...               20            0          0.0   \n",
       "5601  12564 -114300  144900  ...                0          120          0.0   \n",
       "\n",
       "     intraop_ftn  intraop_rocu  intraop_vecu  intraop_eph  intraop_phe  \\\n",
       "314          100            45             0           20            0   \n",
       "848           50            40             0           10            0   \n",
       "1161           0            30             0            0            0   \n",
       "1341         100            30             0            5            0   \n",
       "2781           0            30             0            0            0   \n",
       "2815         100            30             0            0            0   \n",
       "3089           0            50             0            0            0   \n",
       "3123         100            50             0            0            0   \n",
       "3362           0            50             0            0            0   \n",
       "4055          50            30             0           10            0   \n",
       "4275          50            30             0            0            0   \n",
       "4388           0            50             0            0            0   \n",
       "4447         100            30             0            5            0   \n",
       "5520          50            30             0            0            0   \n",
       "5557           0           100             0           10            0   \n",
       "5601           0             0             0           10            0   \n",
       "\n",
       "      intraop_epi intraop_ca  \n",
       "314             0          0  \n",
       "848             0          0  \n",
       "1161            0          0  \n",
       "1341            0          0  \n",
       "2781            0          0  \n",
       "2815            0          0  \n",
       "3089            0        150  \n",
       "3123            0          0  \n",
       "3362            0          0  \n",
       "4055            0          0  \n",
       "4275            0          0  \n",
       "4388            0          0  \n",
       "4447            0          0  \n",
       "5520            0          0  \n",
       "5557            0          0  \n",
       "5601            0          0  \n",
       "\n",
       "[16 rows x 74 columns]"
      ]
     },
     "execution_count": 59,
     "metadata": {},
     "output_type": "execute_result"
    }
   ],
   "source": [
    "y[y['sex'] == 'F']"
   ]
  },
  {
   "cell_type": "code",
   "execution_count": 64,
   "metadata": {},
   "outputs": [
    {
     "data": {
      "text/plain": [
       "<pandas.core.groupby.generic.DataFrameGroupBy object at 0x3204c7970>"
      ]
     },
     "execution_count": 64,
     "metadata": {},
     "output_type": "execute_result"
    }
   ],
   "source": [
    "cases_data.groupby('department')#['los_postop']"
   ]
  },
  {
   "cell_type": "code",
   "execution_count": 65,
   "metadata": {},
   "outputs": [
    {
     "data": {
      "text/plain": [
       "Index(['caseid', 'subjectid', 'casestart', 'caseend', 'anestart', 'aneend',\n",
       "       'opstart', 'opend', 'adm', 'dis', 'icu_days', 'death_inhosp', 'age',\n",
       "       'sex', 'height', 'weight', 'bmi', 'asa', 'emop', 'department', 'optype',\n",
       "       'dx', 'opname', 'approach', 'position', 'ane_type', 'preop_htn',\n",
       "       'preop_dm', 'preop_ecg', 'preop_pft', 'preop_hb', 'preop_plt',\n",
       "       'preop_pt', 'preop_aptt', 'preop_na', 'preop_k', 'preop_gluc',\n",
       "       'preop_alb', 'preop_ast', 'preop_alt', 'preop_bun', 'preop_cr',\n",
       "       'preop_ph', 'preop_hco3', 'preop_be', 'preop_pao2', 'preop_paco2',\n",
       "       'preop_sao2', 'cormack', 'airway', 'tubesize', 'dltubesize', 'lmasize',\n",
       "       'iv1', 'iv2', 'aline1', 'aline2', 'cline1', 'cline2', 'intraop_ebl',\n",
       "       'intraop_uo', 'intraop_rbc', 'intraop_ffp', 'intraop_crystalloid',\n",
       "       'intraop_colloid', 'intraop_ppf', 'intraop_mdz', 'intraop_ftn',\n",
       "       'intraop_rocu', 'intraop_vecu', 'intraop_eph', 'intraop_phe',\n",
       "       'intraop_epi', 'intraop_ca'],\n",
       "      dtype='object')"
      ]
     },
     "execution_count": 65,
     "metadata": {},
     "output_type": "execute_result"
    }
   ],
   "source": [
    "cases_data.columns"
   ]
  },
  {
   "cell_type": "code",
   "execution_count": 69,
   "metadata": {},
   "outputs": [
    {
     "data": {
      "text/plain": [
       "department\n",
       "General surgery     0.497566\n",
       "Gynecology          0.073913\n",
       "Thoracic surgery    0.950495\n",
       "Urology             0.042735\n",
       "Name: icu_days, dtype: float64"
      ]
     },
     "execution_count": 69,
     "metadata": {},
     "output_type": "execute_result"
    }
   ],
   "source": [
    "cases_data.groupby('department')['icu_days'].mean()"
   ]
  },
  {
   "cell_type": "code",
   "execution_count": 71,
   "metadata": {},
   "outputs": [
    {
     "data": {
      "text/plain": [
       "department        approach   \n",
       "General surgery   Open           0.710052\n",
       "                  Robotic        0.096296\n",
       "                  Videoscopic    0.139562\n",
       "Gynecology        Open           0.169231\n",
       "                  Robotic        0.000000\n",
       "                  Videoscopic    0.042857\n",
       "Thoracic surgery  Open           2.615789\n",
       "                  Robotic        0.750000\n",
       "                  Videoscopic    0.601800\n",
       "Urology           Open           0.333333\n",
       "                  Robotic        0.038961\n",
       "                  Videoscopic    0.000000\n",
       "Name: icu_days, dtype: float64"
      ]
     },
     "execution_count": 71,
     "metadata": {},
     "output_type": "execute_result"
    }
   ],
   "source": [
    "cases_data.groupby(['department', 'approach'])['icu_days'].mean()"
   ]
  },
  {
   "cell_type": "code",
   "execution_count": 73,
   "metadata": {},
   "outputs": [
    {
     "data": {
      "text/plain": [
       "Index(['caseid', 'subjectid', 'casestart', 'caseend', 'anestart', 'aneend',\n",
       "       'opstart', 'opend', 'adm', 'dis', 'icu_days', 'death_inhosp', 'age',\n",
       "       'sex', 'height', 'weight', 'bmi', 'asa', 'emop', 'department', 'optype',\n",
       "       'dx', 'opname', 'approach', 'position', 'ane_type', 'preop_htn',\n",
       "       'preop_dm', 'preop_ecg', 'preop_pft', 'preop_hb', 'preop_plt',\n",
       "       'preop_pt', 'preop_aptt', 'preop_na', 'preop_k', 'preop_gluc',\n",
       "       'preop_alb', 'preop_ast', 'preop_alt', 'preop_bun', 'preop_cr',\n",
       "       'preop_ph', 'preop_hco3', 'preop_be', 'preop_pao2', 'preop_paco2',\n",
       "       'preop_sao2', 'cormack', 'airway', 'tubesize', 'dltubesize', 'lmasize',\n",
       "       'iv1', 'iv2', 'aline1', 'aline2', 'cline1', 'cline2', 'intraop_ebl',\n",
       "       'intraop_uo', 'intraop_rbc', 'intraop_ffp', 'intraop_crystalloid',\n",
       "       'intraop_colloid', 'intraop_ppf', 'intraop_mdz', 'intraop_ftn',\n",
       "       'intraop_rocu', 'intraop_vecu', 'intraop_eph', 'intraop_phe',\n",
       "       'intraop_epi', 'intraop_ca'],\n",
       "      dtype='object')"
      ]
     },
     "execution_count": 73,
     "metadata": {},
     "output_type": "execute_result"
    }
   ],
   "source": [
    "cases_data.columns"
   ]
  },
  {
   "cell_type": "code",
   "execution_count": 74,
   "metadata": {},
   "outputs": [
    {
     "data": {
      "text/plain": [
       "0          NaN\n",
       "1         50.0\n",
       "2          NaN\n",
       "3          NaN\n",
       "4       2600.0\n",
       "         ...  \n",
       "6383     100.0\n",
       "6384     100.0\n",
       "6385     100.0\n",
       "6386       NaN\n",
       "6387       NaN\n",
       "Name: intraop_ebl, Length: 6388, dtype: float64"
      ]
     },
     "execution_count": 74,
     "metadata": {},
     "output_type": "execute_result"
    }
   ],
   "source": [
    "cases_data['intraop_ebl']"
   ]
  },
  {
   "cell_type": "code",
   "execution_count": 79,
   "metadata": {},
   "outputs": [
    {
     "data": {
      "text/plain": [
       "0.0"
      ]
     },
     "execution_count": 79,
     "metadata": {},
     "output_type": "execute_result"
    }
   ],
   "source": [
    "cases_data['age'].isna().mean()"
   ]
  },
  {
   "cell_type": "code",
   "execution_count": null,
   "metadata": {},
   "outputs": [],
   "source": [
    "visualization idea 1: Open Surgical approach sucks\n",
    "\n",
    "visuliazation idea 2: "
   ]
  },
  {
   "cell_type": "code",
   "execution_count": 85,
   "metadata": {},
   "outputs": [
    {
     "name": "stdout",
     "output_type": "stream",
     "text": [
      "   age_bin        department  mortality_rate  average_icu_days\n",
      "0     0-20   General surgery              67          7.059701\n",
      "1     0-20        Gynecology               4          0.000000\n",
      "2     0-20  Thoracic surgery              22          0.227273\n",
      "3     0-20           Urology               2          0.000000\n",
      "4    21-40   General surgery             556          0.199640\n",
      "5    21-40        Gynecology              80          0.012500\n",
      "6    21-40  Thoracic surgery              84          0.130952\n",
      "7    21-40           Urology               4          0.000000\n",
      "8    41-60   General surgery            1965          0.374555\n",
      "9    41-60        Gynecology             108          0.064815\n",
      "10   41-60  Thoracic surgery             383          0.485640\n",
      "11   41-60           Urology              33          0.030303\n",
      "12   61-80   General surgery            2126          0.383349\n",
      "13   61-80        Gynecology              37          0.243243\n",
      "14   61-80  Thoracic surgery             590          1.396610\n",
      "15   61-80           Urology              73          0.054795\n",
      "16  81-100   General surgery             216          1.472222\n",
      "17  81-100        Gynecology               1          0.000000\n",
      "18  81-100  Thoracic surgery              32          0.937500\n",
      "19  81-100           Urology               5          0.000000\n",
      "---------------------------\n",
      "   age_bin        department  mortality_rate  average_icu_days\n",
      "0     0-20   General surgery        0.074627          7.059701\n",
      "1     0-20        Gynecology        0.000000          0.000000\n",
      "2     0-20  Thoracic surgery        0.000000          0.227273\n",
      "3     0-20           Urology        0.000000          0.000000\n",
      "4    21-40   General surgery        0.008993          0.199640\n",
      "5    21-40        Gynecology        0.012500          0.012500\n",
      "6    21-40  Thoracic surgery        0.000000          0.130952\n",
      "7    21-40           Urology        0.000000          0.000000\n",
      "8    41-60   General surgery        0.007125          0.374555\n",
      "9    41-60        Gynecology        0.000000          0.064815\n",
      "10   41-60  Thoracic surgery        0.005222          0.485640\n",
      "11   41-60           Urology        0.000000          0.030303\n",
      "12   61-80   General surgery        0.007056          0.383349\n",
      "13   61-80        Gynecology        0.027027          0.243243\n",
      "14   61-80  Thoracic surgery        0.013559          1.396610\n",
      "15   61-80           Urology        0.013699          0.054795\n",
      "16  81-100   General surgery        0.023148          1.472222\n",
      "17  81-100        Gynecology        0.000000          0.000000\n",
      "18  81-100  Thoracic surgery        0.000000          0.937500\n",
      "19  81-100           Urology        0.000000          0.000000\n"
     ]
    }
   ],
   "source": [
    "# Define age bins\n",
    "age_bins = [0, 20, 40, 60, 80, 100]\n",
    "age_labels = ['0-20', '21-40', '41-60', '61-80', '81-100']\n",
    "\n",
    "# Create a new column for age bins\n",
    "cases_data['age_bin'] = pd.cut(cases_data['age'], bins=age_bins, labels=age_labels, right=False)\n",
    "\n",
    "# Calculate mortality rate and average ICU days for each age bin\n",
    "# age_bin_stats = cases_data.groupby('age_bin').agg(\n",
    "#     mortality_rate=('death_inhosp', 'mean'),\n",
    "#     average_icu_days=('icu_days', 'mean')\n",
    "# ).reset_index()\n",
    "\n",
    "# print(age_bin_stats)\n",
    "# Further categorize data based on department kind\n",
    "department_kind_stats = cases_data.groupby(['age_bin', 'department']).agg(\n",
    "    mortality_rate=('death_inhosp', 'count'),\n",
    "    average_icu_days=('icu_days', 'mean')\n",
    ").reset_index()\n",
    "\n",
    "print(department_kind_stats)\n",
    "print('---------------------------')\n",
    "department_kind_stats = cases_data.groupby(['age_bin', 'department']).agg(\n",
    "    mortality_rate=('death_inhosp', 'mean'),\n",
    "    average_icu_days=('icu_days', 'mean')\n",
    ").reset_index()\n",
    "\n",
    "print(department_kind_stats)"
   ]
  },
  {
   "cell_type": "code",
   "execution_count": null,
   "metadata": {},
   "outputs": [],
   "source": []
  }
 ],
 "metadata": {
  "kernelspec": {
   "display_name": "dsc80",
   "language": "python",
   "name": "python3"
  },
  "language_info": {
   "codemirror_mode": {
    "name": "ipython",
    "version": 3
   },
   "file_extension": ".py",
   "mimetype": "text/x-python",
   "name": "python",
   "nbconvert_exporter": "python",
   "pygments_lexer": "ipython3",
   "version": "3.8.19"
  }
 },
 "nbformat": 4,
 "nbformat_minor": 2
}
